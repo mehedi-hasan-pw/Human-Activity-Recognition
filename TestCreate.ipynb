{
 "cells": [
  {
   "cell_type": "code",
   "execution_count": 2,
   "metadata": {},
   "outputs": [
    {
     "name": "stdout",
     "output_type": "stream",
     "text": [
      "./Test/Laying_down.csv\n",
      "./Test/Sitting.csv\n",
      "./Test/Standing.csv\n",
      "./Test/Walking.csv\n"
     ]
    }
   ],
   "source": [
    "import os\n",
    "import glob\n",
    "import pandas as pd\n",
    "path ='./Test/' # use your path\n",
    "allFiles = glob.glob(path + \"/*.csv\")\n",
    "test_frame = pd.DataFrame()\n",
    "list_ = []\n",
    "temp =0 \n",
    "for file_ in allFiles:\n",
    "    temp+=1\n",
    "    df = pd.read_csv(file_,index_col=None, header=None)\n",
    "    list_.append(df)\n",
    "    print(file_)\n",
    "frame = pd.concat(list_)\n",
    "frame.to_csv('TestCombinedFile.csv', sep=',')"
   ]
  }
 ],
 "metadata": {
  "kernelspec": {
   "display_name": "Python 3",
   "language": "python",
   "name": "python3"
  },
  "language_info": {
   "codemirror_mode": {
    "name": "ipython",
    "version": 3
   },
   "file_extension": ".py",
   "mimetype": "text/x-python",
   "name": "python",
   "nbconvert_exporter": "python",
   "pygments_lexer": "ipython3",
   "version": "3.6.3"
  }
 },
 "nbformat": 4,
 "nbformat_minor": 2
}
